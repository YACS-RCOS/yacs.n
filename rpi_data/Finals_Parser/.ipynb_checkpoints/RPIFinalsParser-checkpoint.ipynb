{
 "cells": [
  {
   "cell_type": "code",
   "execution_count": 1,
   "id": "492b30a7-3931-457f-8b29-192b1b71de79",
   "metadata": {},
   "outputs": [
    {
     "data": {
      "text/plain": [
       "'\\n\\nASSUMPTIONS LIST:\\n\\n'"
      ]
     },
     "execution_count": 1,
     "metadata": {},
     "output_type": "execute_result"
    }
   ],
   "source": [
    "'''\n",
    "\n",
    "ASSUMPTIONS LIST:\n",
    "\n",
    "'''"
   ]
  },
  {
   "cell_type": "code",
   "execution_count": 2,
   "id": "bfa30bf8-376b-46a0-9b26-7fde3bf0f783",
   "metadata": {},
   "outputs": [],
   "source": [
    "from pypdf import PdfReader\n",
    "import os\n",
    "import pyspark as spark\n",
    "from datetime import datetime"
   ]
  },
  {
   "cell_type": "code",
   "execution_count": 26,
   "id": "fc38e11a-7e9f-4104-ba93-15ada9b37aba",
   "metadata": {},
   "outputs": [],
   "source": [
    "def handle_times(input_text):\n",
    "    if \"P\" in input_text and \"PM\" not in input_text:\n",
    "        input_text = input_text.replace(\"P\",\"PM\")\n",
    "    format = '%Y-%m-%d %H:%M %p'\n",
    "    time = datetime.strptime(input_text, '%I:%M%p')\n",
    "    list = [time.hour, time.minute]\n",
    "    return list"
   ]
  },
  {
   "cell_type": "code",
   "execution_count": 37,
   "id": "94d7745e-cd53-4dfe-9207-c747bbac3521",
   "metadata": {},
   "outputs": [
    {
     "name": "stdout",
     "output_type": "stream",
     "text": [
      "['MANE', '4610', '01&02', 'JEC', '3232', 'MATH', '1010', 'T', 'BA', 'MANE', '6963', '01', 'T', 'BA'] 14\n",
      "['MANE', '6660', '01', 'T', 'BA', 'MATH', '2400', 'T', 'BA', 'MATH', '1010', 'T', 'BA'] 13\n",
      "['ARCH', '2510', '01&03', 'T', 'BA', 'ARCH', '4966', '01', 'T', 'BA', 'BMED', '4250', '01', 'T', 'BA', 'ARCH', '4910', '01,', '02,', '03,', '04,', '05', 'ON', 'LINE'] 24\n",
      "['ARCH', '4320', '01,', '02,', '03,', '04', 'T', 'BA', 'ARCH', '5100', '01', 'ON', 'LINE', 'BMED', '6420', '01', 'T', 'BA', 'ARCH', '6380', '80', 'T', 'BA'] 23\n",
      "['CIVL', '2050', '01,', '02,', '03', 'T', 'BA', 'ARCH', '4956', '80', 'T', 'BA', 'CIVL', '4010', '01', 'T', 'BA', 'BCBP', '6345', '01', 'T', 'BA'] 22\n",
      "['MATH', '2010', 'T', 'BA', 'ARTS', '6900', '01', 'WEST', '113', 'CSCI', '2300', '(ALLSECTIONS)', 'T', 'BA', 'BIOL', '6345', '01', 'T', 'BA'] 19\n",
      "['MATH', '2400', 'T', 'BA', 'BMED', '2050', '01&02', 'T', 'BA', 'CSCI', '4961', '01', 'T', 'BA', 'CIVL', '4960', '01', 'T', 'BA'] 19\n",
      "['ENVE', '4240', '01', 'T', 'BA', 'ISYE', '6900', '01', 'T', 'BA', 'ENVE', '4370', '01,', '02,', '03', 'T', 'BA'] 17\n",
      "['MATH', '1020', 'T', 'BA', 'MATH', '4090', '01', 'T', 'BA'] 9\n",
      "['ARCH', '2350', '01,', '02,', '03,', '04', 'T', 'BA', 'BIOL', '2120', '01', 'T', 'BA', 'CIVL', '4940', '01', 'T', 'BA', 'ARCH', '6065', '01', 'T', 'BA'] 23\n",
      "['MANE', '6120', '01', 'T', 'BA', 'ENVE', '4350', '01', 'T', 'BA', 'MATH', '2010', 'T', 'BA', 'ERTH', '2120', '01', 'T', 'BA'] 19\n",
      "['PHYS', '1100/1110', '(ALL)', 'T', 'BA', 'MANE', '4070', '01', 'T', 'BA', 'MATP', '6600', '01', 'T', 'BA', 'MATH', '1010', 'T', 'BA'] 19\n",
      "['ARCH', '4050', '01,', '02,', '03', 'T', 'BA', 'ARCH', '4580', '80', 'T', 'BA', 'BMED', '2540', '01', 'T', 'BA', 'ARCH', '4770', '05', 'ON', 'LINE'] 22\n",
      "['ARCH', '4820', '02,', '03,', '06,', '07', 'T', 'BA', 'ARCH', '6340', '80', 'T', 'BA', 'CIVL', '4070', '01', 'T', 'BA', 'ARCH', '4780', '05', 'ON', 'LINE'] 23\n",
      "['MANE', '4090', '01', 'T', 'BA', 'MANE', '2960', '01', 'T', 'BA', 'MATH', '1010', 'T', 'BA'] 14\n",
      "['MATH', '4700', '01', 'T', 'BA', 'MATH', '4040', '01', 'T', 'BA', 'MATH', '2010', 'T', 'BA'] 14\n",
      "['PHYS', '1250', 'T', 'BA', 'MGMT', '4600', '01&02', 'T', 'BA'] 9\n",
      "['ECSE', '6961', '01', 'T', 'BA', 'ECSE', '4900', '02', 'T', 'BA', 'MATH', '1010', 'T', 'BA', 'ECSE', '4900', '04', 'T', 'BA'] 19\n",
      "['ENGR', '2050', 'SECTIONS', '01-05', 'T', 'BA', 'ISYE', '4270', '02', 'T', 'BA', 'MANE', '4260', '03', 'T', 'BA', 'ENVE', '4220', '01', 'T', 'BA'] 21\n",
      "['ENGR', '2050', 'SECTIONS', '06-10', 'T', 'BA', 'ISYE', '4600', '01', 'T', 'BA', 'MGMT', '6060', '01', 'T', 'BA', 'ISYE', '4270', '04', 'T', 'BA'] 21\n",
      "['ENGR', '4961', '01', 'T', 'BA', 'MATH', '2010', 'T', 'BA', 'MGMT', '6190', '01', 'T', 'BA'] 14\n",
      "[('FRIDAY', '12/13'), ('MONDAY', '12/16'), ('TUESDAY', '12/17'), ('WEDNESDAY', '12/18'), ('THURSDAY', '12/19')] 5\n",
      "[[[8, 0], [11, 0], [11, 30], [14, 30], [15, 0], [18, 0], [18, 30], [21, 30]], [[8, 0], [11, 0], [11, 30], [14, 30], [15, 0], [18, 0], [18, 30], [21, 30]], [[8, 0], [11, 0], [11, 30], [14, 30], [15, 0], [18, 0], [18, 30], [21, 30]], [[8, 0], [11, 0], [11, 30], [14, 30], [15, 0], [18, 0], [18, 30], [21, 30]], [[8, 0], [11, 0], [11, 30], [14, 30], [15, 0], [18, 0], [18, 30], [21, 30]]] 5\n"
     ]
    }
   ],
   "source": [
    "\n",
    "files = [f for f in os.listdir('.') if os.path.isfile(f)]\n",
    "full_text = []\n",
    "col_heads = []\n",
    "dates = []\n",
    "weekdays = [\"MONDAY\",\"TUESDAY\",\"WEDNESDAY\",\"THURSDAY\",\"FRIDAY\"]\n",
    "line_is_times = False\n",
    "times_matrix = []\n",
    "times_count = 0\n",
    "for f in files:\n",
    "    if \"finals.pdf\" in f:\n",
    "        reader = PdfReader(\"finals.pdf\")\n",
    "        number_of_pages = len(reader.pages)\n",
    "        for page in reader.pages:\n",
    "            text = page.extract_text(extraction_mode=\"layout\").split('\\n')\n",
    "            text.pop(0)\n",
    "            for line in text:\n",
    "                line_is_times = \"LOCATION\" in line\n",
    "                if line_is_times:\n",
    "                    line = line.strip()\n",
    "                    line = line.split(\" \")\n",
    "                    better_line = []\n",
    "                    for el in line:\n",
    "                        if el != '' and el != \"LOCATION\":\n",
    "                            better_line.append(el)\n",
    "                    line = better_line\n",
    "                    times_line = []\n",
    "                    for time_range in line:\n",
    "                        times = time_range.split('-')\n",
    "                        for time in times:\n",
    "                            times_line.append(handle_times(time))\n",
    "                    times_matrix.append(times_line)\n",
    "                for day in weekdays:\n",
    "                    not_date_line = True\n",
    "                    if day in line:\n",
    "                        not_date_line = False\n",
    "                        line = line.strip()\n",
    "                        index = line.index(day)\n",
    "                        date = line[:index-1]\n",
    "                        dates.append((day,date))\n",
    "                        break\n",
    "                if not_date_line and not line_is_times:\n",
    "                    line = line.strip()\n",
    "                    line = line.replace(\"ALL SECTIONS\",\"ALLSECTIONS\").replace(\" & \",\"&\").replace(\"TBA\",\"T BA\").replace(\"ONLINE\",\"ON LINE\").replace(\" / \",\"/\").replace(\"ALL SECT\",\"ALLSECT\")\n",
    "                    line = line.split(\" \")\n",
    "                    fixed_line = []\n",
    "                    deleting = False\n",
    "                    for word in line:\n",
    "                        if \"(\" in word and \"ALL\" not in word:\n",
    "                            deleting = True\n",
    "                        if deleting:\n",
    "                            if \")\" in word:\n",
    "                                deleting = False\n",
    "                        else:\n",
    "                            fixed_line.append(word)\n",
    "                    line = fixed_line\n",
    "                    \n",
    "                    line = [i for i in line if i != '']\n",
    "                    #print(len(line)/4)\n",
    "                    if len(line)/5 % 1 != 0:\n",
    "                        print(line,len(line))#\n",
    "                    #print(line)\n",
    "print(dates,len(dates))\n",
    "print(times_matrix,len(times_matrix))"
   ]
  },
  {
   "cell_type": "code",
   "execution_count": null,
   "id": "5547eea0-f811-47f2-aa1b-9ec5cf34daee",
   "metadata": {},
   "outputs": [],
   "source": []
  }
 ],
 "metadata": {
  "kernelspec": {
   "display_name": "Python 3 (ipykernel)",
   "language": "python",
   "name": "python3"
  },
  "language_info": {
   "codemirror_mode": {
    "name": "ipython",
    "version": 3
   },
   "file_extension": ".py",
   "mimetype": "text/x-python",
   "name": "python",
   "nbconvert_exporter": "python",
   "pygments_lexer": "ipython3",
   "version": "3.10.5"
  }
 },
 "nbformat": 4,
 "nbformat_minor": 5
}
